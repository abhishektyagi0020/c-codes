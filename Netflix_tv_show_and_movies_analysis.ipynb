{
  "nbformat": 4,
  "nbformat_minor": 0,
  "metadata": {
    "colab": {
      "name": "Netflix tv show and movies analysis.ipynb",
      "provenance": [],
      "collapsed_sections": [],
      "mount_file_id": "1zWohZe9d743jUgZjYqSIcpRpyGjjuyBT",
      "authorship_tag": "ABX9TyMu8QNoT2cpgB6EmoF6Ydjg",
      "include_colab_link": true
    },
    "kernelspec": {
      "name": "python3",
      "display_name": "Python 3"
    },
    "language_info": {
      "name": "python"
    }
  },
  "cells": [
    {
      "cell_type": "markdown",
      "metadata": {
        "id": "view-in-github",
        "colab_type": "text"
      },
      "source": [
        "<a href=\"https://colab.research.google.com/github/abhishektyagi0020/c-codes/blob/main/Netflix_tv_show_and_movies_analysis.ipynb\" target=\"_parent\"><img src=\"https://colab.research.google.com/assets/colab-badge.svg\" alt=\"Open In Colab\"/></a>"
      ]
    },
    {
      "cell_type": "code",
      "execution_count": null,
      "metadata": {
        "id": "Zkw3KSEc6r9P"
      },
      "outputs": [],
      "source": [
        "import pandas as pd\n",
        "import seaborn as sns\n",
        "import plotly.express as px\n",
        "import matplotlib.pyplot as plt\n"
      ]
    },
    {
      "cell_type": "code",
      "source": [
        "ds=pd.read_csv('titles.csv')"
      ],
      "metadata": {
        "id": "UC75iksz7LGw"
      },
      "execution_count": null,
      "outputs": []
    },
    {
      "cell_type": "code",
      "source": [
        "print(ds)"
      ],
      "metadata": {
        "id": "ynjLyjNK7LKa",
        "colab": {
          "base_uri": "https://localhost:8080/"
        },
        "outputId": "6343fe6c-ac8c-4691-e192-cefcabff3fec"
      },
      "execution_count": null,
      "outputs": [
        {
          "output_type": "stream",
          "name": "stdout",
          "text": [
            "             id                                title   type  \\\n",
            "0      ts300399  Five Came Back: The Reference Films   SHOW   \n",
            "1       tm84618                          Taxi Driver  MOVIE   \n",
            "2      tm127384      Monty Python and the Holy Grail  MOVIE   \n",
            "3       tm70993                        Life of Brian  MOVIE   \n",
            "4      tm190788                         The Exorcist  MOVIE   \n",
            "...         ...                                  ...    ...   \n",
            "5801  tm1014599                            Fine Wine  MOVIE   \n",
            "5802  tm1108171                       Edis Starlight  MOVIE   \n",
            "5803  tm1045018                                Clash  MOVIE   \n",
            "5804  tm1098060                       Shadow Parties  MOVIE   \n",
            "5805   ts271048   Mighty Little Bheem: Kite Festival   SHOW   \n",
            "\n",
            "                                            description  release_year  \\\n",
            "0     This collection includes 12 World War II-era p...          1945   \n",
            "1     A mentally unstable Vietnam War veteran works ...          1976   \n",
            "2     King Arthur, accompanied by his squire, recrui...          1975   \n",
            "3     Brian Cohen is an average young Jewish man, bu...          1979   \n",
            "4     12-year-old Regan MacNeil begins to adapt an e...          1973   \n",
            "...                                                 ...           ...   \n",
            "5801  A beautiful love story that can happen between...          2021   \n",
            "5802  Rising star Edis's career journey with ups and...          2021   \n",
            "5803  A man from Nigeria returns to his family in Ca...          2021   \n",
            "5804  A family faces destruction in a long-running c...          2021   \n",
            "5805  With winter behind them, Bheem and his townspe...          2021   \n",
            "\n",
            "     age_certification  runtime                             genres  \\\n",
            "0                TV-MA       48                  ['documentation']   \n",
            "1                    R      113                 ['crime', 'drama']   \n",
            "2                   PG       91              ['comedy', 'fantasy']   \n",
            "3                    R       94                         ['comedy']   \n",
            "4                    R      133                         ['horror']   \n",
            "...                ...      ...                                ...   \n",
            "5801               NaN      100               ['romance', 'drama']   \n",
            "5802               NaN       74         ['music', 'documentation']   \n",
            "5803               NaN       88                ['family', 'drama']   \n",
            "5804               NaN      116             ['action', 'thriller']   \n",
            "5805               NaN        0  ['family', 'comedy', 'animation']   \n",
            "\n",
            "     production_countries  seasons     imdb_id  imdb_score  imdb_votes  \\\n",
            "0                  ['US']      1.0         NaN         NaN         NaN   \n",
            "1                  ['US']      NaN   tt0075314         8.3    795222.0   \n",
            "2                  ['GB']      NaN   tt0071853         8.2    530877.0   \n",
            "3                  ['GB']      NaN   tt0079470         8.0    392419.0   \n",
            "4                  ['US']      NaN   tt0070047         8.1    391942.0   \n",
            "...                   ...      ...         ...         ...         ...   \n",
            "5801               ['NG']      NaN  tt13857480         6.9        39.0   \n",
            "5802                   []      NaN         NaN         NaN         NaN   \n",
            "5803         ['NG', 'CA']      NaN  tt14620732         6.5        32.0   \n",
            "5804                   []      NaN  tt10168094         6.2         9.0   \n",
            "5805                   []      1.0  tt13711094         8.8        16.0   \n",
            "\n",
            "      tmdb_popularity  tmdb_score  \n",
            "0               0.600         NaN  \n",
            "1              27.612         8.2  \n",
            "2              18.216         7.8  \n",
            "3              17.505         7.8  \n",
            "4              95.337         7.7  \n",
            "...               ...         ...  \n",
            "5801            0.966         NaN  \n",
            "5802            1.036         8.5  \n",
            "5803            0.709         NaN  \n",
            "5804            2.186         NaN  \n",
            "5805            0.979        10.0  \n",
            "\n",
            "[5806 rows x 15 columns]\n"
          ]
        }
      ]
    },
    {
      "cell_type": "code",
      "source": [
        "ds.info() # infromation and datatypes"
      ],
      "metadata": {
        "id": "D7j2So_H7LY0",
        "colab": {
          "base_uri": "https://localhost:8080/"
        },
        "outputId": "fd14184b-c879-4e39-bd4b-0fdea4714e0f"
      },
      "execution_count": null,
      "outputs": [
        {
          "output_type": "stream",
          "name": "stdout",
          "text": [
            "<class 'pandas.core.frame.DataFrame'>\n",
            "RangeIndex: 5806 entries, 0 to 5805\n",
            "Data columns (total 15 columns):\n",
            " #   Column                Non-Null Count  Dtype  \n",
            "---  ------                --------------  -----  \n",
            " 0   id                    5806 non-null   object \n",
            " 1   title                 5805 non-null   object \n",
            " 2   type                  5806 non-null   object \n",
            " 3   description           5788 non-null   object \n",
            " 4   release_year          5806 non-null   int64  \n",
            " 5   age_certification     3196 non-null   object \n",
            " 6   runtime               5806 non-null   int64  \n",
            " 7   genres                5806 non-null   object \n",
            " 8   production_countries  5806 non-null   object \n",
            " 9   seasons               2047 non-null   float64\n",
            " 10  imdb_id               5362 non-null   object \n",
            " 11  imdb_score            5283 non-null   float64\n",
            " 12  imdb_votes            5267 non-null   float64\n",
            " 13  tmdb_popularity       5712 non-null   float64\n",
            " 14  tmdb_score            5488 non-null   float64\n",
            "dtypes: float64(5), int64(2), object(8)\n",
            "memory usage: 680.5+ KB\n"
          ]
        }
      ]
    },
    {
      "cell_type": "code",
      "source": [
        "ds.head # display first 5 rows"
      ],
      "metadata": {
        "id": "S4OLdRMA7Lby",
        "colab": {
          "base_uri": "https://localhost:8080/"
        },
        "outputId": "c4d388d6-26ef-45cb-d353-fb323bf9f9c6"
      },
      "execution_count": null,
      "outputs": [
        {
          "output_type": "execute_result",
          "data": {
            "text/plain": [
              "<bound method NDFrame.head of              id                                title   type  \\\n",
              "0      ts300399  Five Came Back: The Reference Films   SHOW   \n",
              "1       tm84618                          Taxi Driver  MOVIE   \n",
              "2      tm127384      Monty Python and the Holy Grail  MOVIE   \n",
              "3       tm70993                        Life of Brian  MOVIE   \n",
              "4      tm190788                         The Exorcist  MOVIE   \n",
              "...         ...                                  ...    ...   \n",
              "5801  tm1014599                            Fine Wine  MOVIE   \n",
              "5802  tm1108171                       Edis Starlight  MOVIE   \n",
              "5803  tm1045018                                Clash  MOVIE   \n",
              "5804  tm1098060                       Shadow Parties  MOVIE   \n",
              "5805   ts271048   Mighty Little Bheem: Kite Festival   SHOW   \n",
              "\n",
              "                                            description  release_year  \\\n",
              "0     This collection includes 12 World War II-era p...          1945   \n",
              "1     A mentally unstable Vietnam War veteran works ...          1976   \n",
              "2     King Arthur, accompanied by his squire, recrui...          1975   \n",
              "3     Brian Cohen is an average young Jewish man, bu...          1979   \n",
              "4     12-year-old Regan MacNeil begins to adapt an e...          1973   \n",
              "...                                                 ...           ...   \n",
              "5801  A beautiful love story that can happen between...          2021   \n",
              "5802  Rising star Edis's career journey with ups and...          2021   \n",
              "5803  A man from Nigeria returns to his family in Ca...          2021   \n",
              "5804  A family faces destruction in a long-running c...          2021   \n",
              "5805  With winter behind them, Bheem and his townspe...          2021   \n",
              "\n",
              "     age_certification  runtime                             genres  \\\n",
              "0                TV-MA       48                  ['documentation']   \n",
              "1                    R      113                 ['crime', 'drama']   \n",
              "2                   PG       91              ['comedy', 'fantasy']   \n",
              "3                    R       94                         ['comedy']   \n",
              "4                    R      133                         ['horror']   \n",
              "...                ...      ...                                ...   \n",
              "5801               NaN      100               ['romance', 'drama']   \n",
              "5802               NaN       74         ['music', 'documentation']   \n",
              "5803               NaN       88                ['family', 'drama']   \n",
              "5804               NaN      116             ['action', 'thriller']   \n",
              "5805               NaN        0  ['family', 'comedy', 'animation']   \n",
              "\n",
              "     production_countries  seasons     imdb_id  imdb_score  imdb_votes  \\\n",
              "0                  ['US']      1.0         NaN         NaN         NaN   \n",
              "1                  ['US']      NaN   tt0075314         8.3    795222.0   \n",
              "2                  ['GB']      NaN   tt0071853         8.2    530877.0   \n",
              "3                  ['GB']      NaN   tt0079470         8.0    392419.0   \n",
              "4                  ['US']      NaN   tt0070047         8.1    391942.0   \n",
              "...                   ...      ...         ...         ...         ...   \n",
              "5801               ['NG']      NaN  tt13857480         6.9        39.0   \n",
              "5802                   []      NaN         NaN         NaN         NaN   \n",
              "5803         ['NG', 'CA']      NaN  tt14620732         6.5        32.0   \n",
              "5804                   []      NaN  tt10168094         6.2         9.0   \n",
              "5805                   []      1.0  tt13711094         8.8        16.0   \n",
              "\n",
              "      tmdb_popularity  tmdb_score  \n",
              "0               0.600         NaN  \n",
              "1              27.612         8.2  \n",
              "2              18.216         7.8  \n",
              "3              17.505         7.8  \n",
              "4              95.337         7.7  \n",
              "...               ...         ...  \n",
              "5801            0.966         NaN  \n",
              "5802            1.036         8.5  \n",
              "5803            0.709         NaN  \n",
              "5804            2.186         NaN  \n",
              "5805            0.979        10.0  \n",
              "\n",
              "[5806 rows x 15 columns]>"
            ]
          },
          "metadata": {},
          "execution_count": 70
        }
      ]
    },
    {
      "cell_type": "code",
      "source": [
        "ds.shape # data structure"
      ],
      "metadata": {
        "id": "NTOse1R87Les",
        "colab": {
          "base_uri": "https://localhost:8080/"
        },
        "outputId": "3970b642-cbf6-425c-c6ce-f1fedf93c262"
      },
      "execution_count": null,
      "outputs": [
        {
          "output_type": "execute_result",
          "data": {
            "text/plain": [
              "(5806, 15)"
            ]
          },
          "metadata": {},
          "execution_count": 71
        }
      ]
    },
    {
      "cell_type": "code",
      "source": [
        "ds.describe() # stastis detaisl data"
      ],
      "metadata": {
        "id": "HST18QHS7LiI",
        "colab": {
          "base_uri": "https://localhost:8080/",
          "height": 364
        },
        "outputId": "9dbb33ab-8694-4fb9-be84-e8fd676c0a77"
      },
      "execution_count": null,
      "outputs": [
        {
          "output_type": "execute_result",
          "data": {
            "text/plain": [
              "       release_year      runtime      seasons   imdb_score    imdb_votes  \\\n",
              "count   5806.000000  5806.000000  2047.000000  5283.000000  5.267000e+03   \n",
              "mean    2016.013434    77.643989     2.165608     6.533447  2.340719e+04   \n",
              "std        7.324883    39.474160     2.636207     1.160932  8.713432e+04   \n",
              "min     1945.000000     0.000000     1.000000     1.500000  5.000000e+00   \n",
              "25%     2015.000000    44.000000     1.000000     5.800000  5.210000e+02   \n",
              "50%     2018.000000    84.000000     1.000000     6.600000  2.279000e+03   \n",
              "75%     2020.000000   105.000000     2.000000     7.400000  1.014400e+04   \n",
              "max     2022.000000   251.000000    42.000000     9.600000  2.268288e+06   \n",
              "\n",
              "       tmdb_popularity   tmdb_score  \n",
              "count      5712.000000  5488.000000  \n",
              "mean         22.525660     6.818039  \n",
              "std          68.849177     1.171560  \n",
              "min           0.009442     0.500000  \n",
              "25%           3.155250     6.100000  \n",
              "50%           7.478000     6.900000  \n",
              "75%          17.775750     7.500000  \n",
              "max        1823.374000    10.000000  "
            ],
            "text/html": [
              "\n",
              "  <div id=\"df-342ed94a-e44f-4b52-97d0-08e57c425f75\">\n",
              "    <div class=\"colab-df-container\">\n",
              "      <div>\n",
              "<style scoped>\n",
              "    .dataframe tbody tr th:only-of-type {\n",
              "        vertical-align: middle;\n",
              "    }\n",
              "\n",
              "    .dataframe tbody tr th {\n",
              "        vertical-align: top;\n",
              "    }\n",
              "\n",
              "    .dataframe thead th {\n",
              "        text-align: right;\n",
              "    }\n",
              "</style>\n",
              "<table border=\"1\" class=\"dataframe\">\n",
              "  <thead>\n",
              "    <tr style=\"text-align: right;\">\n",
              "      <th></th>\n",
              "      <th>release_year</th>\n",
              "      <th>runtime</th>\n",
              "      <th>seasons</th>\n",
              "      <th>imdb_score</th>\n",
              "      <th>imdb_votes</th>\n",
              "      <th>tmdb_popularity</th>\n",
              "      <th>tmdb_score</th>\n",
              "    </tr>\n",
              "  </thead>\n",
              "  <tbody>\n",
              "    <tr>\n",
              "      <th>count</th>\n",
              "      <td>5806.000000</td>\n",
              "      <td>5806.000000</td>\n",
              "      <td>2047.000000</td>\n",
              "      <td>5283.000000</td>\n",
              "      <td>5.267000e+03</td>\n",
              "      <td>5712.000000</td>\n",
              "      <td>5488.000000</td>\n",
              "    </tr>\n",
              "    <tr>\n",
              "      <th>mean</th>\n",
              "      <td>2016.013434</td>\n",
              "      <td>77.643989</td>\n",
              "      <td>2.165608</td>\n",
              "      <td>6.533447</td>\n",
              "      <td>2.340719e+04</td>\n",
              "      <td>22.525660</td>\n",
              "      <td>6.818039</td>\n",
              "    </tr>\n",
              "    <tr>\n",
              "      <th>std</th>\n",
              "      <td>7.324883</td>\n",
              "      <td>39.474160</td>\n",
              "      <td>2.636207</td>\n",
              "      <td>1.160932</td>\n",
              "      <td>8.713432e+04</td>\n",
              "      <td>68.849177</td>\n",
              "      <td>1.171560</td>\n",
              "    </tr>\n",
              "    <tr>\n",
              "      <th>min</th>\n",
              "      <td>1945.000000</td>\n",
              "      <td>0.000000</td>\n",
              "      <td>1.000000</td>\n",
              "      <td>1.500000</td>\n",
              "      <td>5.000000e+00</td>\n",
              "      <td>0.009442</td>\n",
              "      <td>0.500000</td>\n",
              "    </tr>\n",
              "    <tr>\n",
              "      <th>25%</th>\n",
              "      <td>2015.000000</td>\n",
              "      <td>44.000000</td>\n",
              "      <td>1.000000</td>\n",
              "      <td>5.800000</td>\n",
              "      <td>5.210000e+02</td>\n",
              "      <td>3.155250</td>\n",
              "      <td>6.100000</td>\n",
              "    </tr>\n",
              "    <tr>\n",
              "      <th>50%</th>\n",
              "      <td>2018.000000</td>\n",
              "      <td>84.000000</td>\n",
              "      <td>1.000000</td>\n",
              "      <td>6.600000</td>\n",
              "      <td>2.279000e+03</td>\n",
              "      <td>7.478000</td>\n",
              "      <td>6.900000</td>\n",
              "    </tr>\n",
              "    <tr>\n",
              "      <th>75%</th>\n",
              "      <td>2020.000000</td>\n",
              "      <td>105.000000</td>\n",
              "      <td>2.000000</td>\n",
              "      <td>7.400000</td>\n",
              "      <td>1.014400e+04</td>\n",
              "      <td>17.775750</td>\n",
              "      <td>7.500000</td>\n",
              "    </tr>\n",
              "    <tr>\n",
              "      <th>max</th>\n",
              "      <td>2022.000000</td>\n",
              "      <td>251.000000</td>\n",
              "      <td>42.000000</td>\n",
              "      <td>9.600000</td>\n",
              "      <td>2.268288e+06</td>\n",
              "      <td>1823.374000</td>\n",
              "      <td>10.000000</td>\n",
              "    </tr>\n",
              "  </tbody>\n",
              "</table>\n",
              "</div>\n",
              "      <button class=\"colab-df-convert\" onclick=\"convertToInteractive('df-342ed94a-e44f-4b52-97d0-08e57c425f75')\"\n",
              "              title=\"Convert this dataframe to an interactive table.\"\n",
              "              style=\"display:none;\">\n",
              "        \n",
              "  <svg xmlns=\"http://www.w3.org/2000/svg\" height=\"24px\"viewBox=\"0 0 24 24\"\n",
              "       width=\"24px\">\n",
              "    <path d=\"M0 0h24v24H0V0z\" fill=\"none\"/>\n",
              "    <path d=\"M18.56 5.44l.94 2.06.94-2.06 2.06-.94-2.06-.94-.94-2.06-.94 2.06-2.06.94zm-11 1L8.5 8.5l.94-2.06 2.06-.94-2.06-.94L8.5 2.5l-.94 2.06-2.06.94zm10 10l.94 2.06.94-2.06 2.06-.94-2.06-.94-.94-2.06-.94 2.06-2.06.94z\"/><path d=\"M17.41 7.96l-1.37-1.37c-.4-.4-.92-.59-1.43-.59-.52 0-1.04.2-1.43.59L10.3 9.45l-7.72 7.72c-.78.78-.78 2.05 0 2.83L4 21.41c.39.39.9.59 1.41.59.51 0 1.02-.2 1.41-.59l7.78-7.78 2.81-2.81c.8-.78.8-2.07 0-2.86zM5.41 20L4 18.59l7.72-7.72 1.47 1.35L5.41 20z\"/>\n",
              "  </svg>\n",
              "      </button>\n",
              "      \n",
              "  <style>\n",
              "    .colab-df-container {\n",
              "      display:flex;\n",
              "      flex-wrap:wrap;\n",
              "      gap: 12px;\n",
              "    }\n",
              "\n",
              "    .colab-df-convert {\n",
              "      background-color: #E8F0FE;\n",
              "      border: none;\n",
              "      border-radius: 50%;\n",
              "      cursor: pointer;\n",
              "      display: none;\n",
              "      fill: #1967D2;\n",
              "      height: 32px;\n",
              "      padding: 0 0 0 0;\n",
              "      width: 32px;\n",
              "    }\n",
              "\n",
              "    .colab-df-convert:hover {\n",
              "      background-color: #E2EBFA;\n",
              "      box-shadow: 0px 1px 2px rgba(60, 64, 67, 0.3), 0px 1px 3px 1px rgba(60, 64, 67, 0.15);\n",
              "      fill: #174EA6;\n",
              "    }\n",
              "\n",
              "    [theme=dark] .colab-df-convert {\n",
              "      background-color: #3B4455;\n",
              "      fill: #D2E3FC;\n",
              "    }\n",
              "\n",
              "    [theme=dark] .colab-df-convert:hover {\n",
              "      background-color: #434B5C;\n",
              "      box-shadow: 0px 1px 3px 1px rgba(0, 0, 0, 0.15);\n",
              "      filter: drop-shadow(0px 1px 2px rgba(0, 0, 0, 0.3));\n",
              "      fill: #FFFFFF;\n",
              "    }\n",
              "  </style>\n",
              "\n",
              "      <script>\n",
              "        const buttonEl =\n",
              "          document.querySelector('#df-342ed94a-e44f-4b52-97d0-08e57c425f75 button.colab-df-convert');\n",
              "        buttonEl.style.display =\n",
              "          google.colab.kernel.accessAllowed ? 'block' : 'none';\n",
              "\n",
              "        async function convertToInteractive(key) {\n",
              "          const element = document.querySelector('#df-342ed94a-e44f-4b52-97d0-08e57c425f75');\n",
              "          const dataTable =\n",
              "            await google.colab.kernel.invokeFunction('convertToInteractive',\n",
              "                                                     [key], {});\n",
              "          if (!dataTable) return;\n",
              "\n",
              "          const docLinkHtml = 'Like what you see? Visit the ' +\n",
              "            '<a target=\"_blank\" href=https://colab.research.google.com/notebooks/data_table.ipynb>data table notebook</a>'\n",
              "            + ' to learn more about interactive tables.';\n",
              "          element.innerHTML = '';\n",
              "          dataTable['output_type'] = 'display_data';\n",
              "          await google.colab.output.renderOutput(dataTable, element);\n",
              "          const docLink = document.createElement('div');\n",
              "          docLink.innerHTML = docLinkHtml;\n",
              "          element.appendChild(docLink);\n",
              "        }\n",
              "      </script>\n",
              "    </div>\n",
              "  </div>\n",
              "  "
            ]
          },
          "metadata": {},
          "execution_count": 72
        }
      ]
    },
    {
      "cell_type": "code",
      "source": [
        "ds.duplicated().sum() # find duplicates in dataset "
      ],
      "metadata": {
        "id": "_hx4ymu47Ll1",
        "colab": {
          "base_uri": "https://localhost:8080/"
        },
        "outputId": "47201d61-aadb-446b-8212-eac1fb101c01"
      },
      "execution_count": null,
      "outputs": [
        {
          "output_type": "execute_result",
          "data": {
            "text/plain": [
              "0"
            ]
          },
          "metadata": {},
          "execution_count": 73
        }
      ]
    },
    {
      "cell_type": "code",
      "source": [
        "ds.isnull().sum() # check null values in dataset "
      ],
      "metadata": {
        "id": "z-Oq8E127Lpl",
        "colab": {
          "base_uri": "https://localhost:8080/"
        },
        "outputId": "311f7555-75e2-4e8a-b506-cf4a1f1ebd30"
      },
      "execution_count": null,
      "outputs": [
        {
          "output_type": "execute_result",
          "data": {
            "text/plain": [
              "id                         0\n",
              "title                      1\n",
              "type                       0\n",
              "description               18\n",
              "release_year               0\n",
              "age_certification       2610\n",
              "runtime                    0\n",
              "genres                     0\n",
              "production_countries       0\n",
              "seasons                 3759\n",
              "imdb_id                  444\n",
              "imdb_score               523\n",
              "imdb_votes               539\n",
              "tmdb_popularity           94\n",
              "tmdb_score               318\n",
              "dtype: int64"
            ]
          },
          "metadata": {},
          "execution_count": 74
        }
      ]
    },
    {
      "cell_type": "code",
      "source": [
        "ds.drop(['description','imdb_id','imdb_votes','imdb_score'],axis=1 ,inplace=True) # remove cols not need to analysis"
      ],
      "metadata": {
        "id": "OxFdSkbcAYlu"
      },
      "execution_count": null,
      "outputs": []
    },
    {
      "cell_type": "code",
      "source": [
        "ds.head(2) # first 2 rows print"
      ],
      "metadata": {
        "colab": {
          "base_uri": "https://localhost:8080/",
          "height": 263
        },
        "id": "HXl8raSzBd0j",
        "outputId": "99c56a18-b31b-4cba-80fd-10ff780d9c8a"
      },
      "execution_count": null,
      "outputs": [
        {
          "output_type": "execute_result",
          "data": {
            "text/plain": [
              "         id                                title   type  release_year  \\\n",
              "0  ts300399  Five Came Back: The Reference Films   SHOW          1945   \n",
              "1   tm84618                          Taxi Driver  MOVIE          1976   \n",
              "\n",
              "  age_certification  runtime              genres production_countries  \\\n",
              "0             TV-MA       48   ['documentation']               ['US']   \n",
              "1                 R      113  ['crime', 'drama']               ['US']   \n",
              "\n",
              "   seasons  tmdb_popularity  tmdb_score  \n",
              "0      1.0            0.600         NaN  \n",
              "1      NaN           27.612         8.2  "
            ],
            "text/html": [
              "\n",
              "  <div id=\"df-d06aa2c5-3899-4ac9-b858-80cc77f1b6f1\">\n",
              "    <div class=\"colab-df-container\">\n",
              "      <div>\n",
              "<style scoped>\n",
              "    .dataframe tbody tr th:only-of-type {\n",
              "        vertical-align: middle;\n",
              "    }\n",
              "\n",
              "    .dataframe tbody tr th {\n",
              "        vertical-align: top;\n",
              "    }\n",
              "\n",
              "    .dataframe thead th {\n",
              "        text-align: right;\n",
              "    }\n",
              "</style>\n",
              "<table border=\"1\" class=\"dataframe\">\n",
              "  <thead>\n",
              "    <tr style=\"text-align: right;\">\n",
              "      <th></th>\n",
              "      <th>id</th>\n",
              "      <th>title</th>\n",
              "      <th>type</th>\n",
              "      <th>release_year</th>\n",
              "      <th>age_certification</th>\n",
              "      <th>runtime</th>\n",
              "      <th>genres</th>\n",
              "      <th>production_countries</th>\n",
              "      <th>seasons</th>\n",
              "      <th>tmdb_popularity</th>\n",
              "      <th>tmdb_score</th>\n",
              "    </tr>\n",
              "  </thead>\n",
              "  <tbody>\n",
              "    <tr>\n",
              "      <th>0</th>\n",
              "      <td>ts300399</td>\n",
              "      <td>Five Came Back: The Reference Films</td>\n",
              "      <td>SHOW</td>\n",
              "      <td>1945</td>\n",
              "      <td>TV-MA</td>\n",
              "      <td>48</td>\n",
              "      <td>['documentation']</td>\n",
              "      <td>['US']</td>\n",
              "      <td>1.0</td>\n",
              "      <td>0.600</td>\n",
              "      <td>NaN</td>\n",
              "    </tr>\n",
              "    <tr>\n",
              "      <th>1</th>\n",
              "      <td>tm84618</td>\n",
              "      <td>Taxi Driver</td>\n",
              "      <td>MOVIE</td>\n",
              "      <td>1976</td>\n",
              "      <td>R</td>\n",
              "      <td>113</td>\n",
              "      <td>['crime', 'drama']</td>\n",
              "      <td>['US']</td>\n",
              "      <td>NaN</td>\n",
              "      <td>27.612</td>\n",
              "      <td>8.2</td>\n",
              "    </tr>\n",
              "  </tbody>\n",
              "</table>\n",
              "</div>\n",
              "      <button class=\"colab-df-convert\" onclick=\"convertToInteractive('df-d06aa2c5-3899-4ac9-b858-80cc77f1b6f1')\"\n",
              "              title=\"Convert this dataframe to an interactive table.\"\n",
              "              style=\"display:none;\">\n",
              "        \n",
              "  <svg xmlns=\"http://www.w3.org/2000/svg\" height=\"24px\"viewBox=\"0 0 24 24\"\n",
              "       width=\"24px\">\n",
              "    <path d=\"M0 0h24v24H0V0z\" fill=\"none\"/>\n",
              "    <path d=\"M18.56 5.44l.94 2.06.94-2.06 2.06-.94-2.06-.94-.94-2.06-.94 2.06-2.06.94zm-11 1L8.5 8.5l.94-2.06 2.06-.94-2.06-.94L8.5 2.5l-.94 2.06-2.06.94zm10 10l.94 2.06.94-2.06 2.06-.94-2.06-.94-.94-2.06-.94 2.06-2.06.94z\"/><path d=\"M17.41 7.96l-1.37-1.37c-.4-.4-.92-.59-1.43-.59-.52 0-1.04.2-1.43.59L10.3 9.45l-7.72 7.72c-.78.78-.78 2.05 0 2.83L4 21.41c.39.39.9.59 1.41.59.51 0 1.02-.2 1.41-.59l7.78-7.78 2.81-2.81c.8-.78.8-2.07 0-2.86zM5.41 20L4 18.59l7.72-7.72 1.47 1.35L5.41 20z\"/>\n",
              "  </svg>\n",
              "      </button>\n",
              "      \n",
              "  <style>\n",
              "    .colab-df-container {\n",
              "      display:flex;\n",
              "      flex-wrap:wrap;\n",
              "      gap: 12px;\n",
              "    }\n",
              "\n",
              "    .colab-df-convert {\n",
              "      background-color: #E8F0FE;\n",
              "      border: none;\n",
              "      border-radius: 50%;\n",
              "      cursor: pointer;\n",
              "      display: none;\n",
              "      fill: #1967D2;\n",
              "      height: 32px;\n",
              "      padding: 0 0 0 0;\n",
              "      width: 32px;\n",
              "    }\n",
              "\n",
              "    .colab-df-convert:hover {\n",
              "      background-color: #E2EBFA;\n",
              "      box-shadow: 0px 1px 2px rgba(60, 64, 67, 0.3), 0px 1px 3px 1px rgba(60, 64, 67, 0.15);\n",
              "      fill: #174EA6;\n",
              "    }\n",
              "\n",
              "    [theme=dark] .colab-df-convert {\n",
              "      background-color: #3B4455;\n",
              "      fill: #D2E3FC;\n",
              "    }\n",
              "\n",
              "    [theme=dark] .colab-df-convert:hover {\n",
              "      background-color: #434B5C;\n",
              "      box-shadow: 0px 1px 3px 1px rgba(0, 0, 0, 0.15);\n",
              "      filter: drop-shadow(0px 1px 2px rgba(0, 0, 0, 0.3));\n",
              "      fill: #FFFFFF;\n",
              "    }\n",
              "  </style>\n",
              "\n",
              "      <script>\n",
              "        const buttonEl =\n",
              "          document.querySelector('#df-d06aa2c5-3899-4ac9-b858-80cc77f1b6f1 button.colab-df-convert');\n",
              "        buttonEl.style.display =\n",
              "          google.colab.kernel.accessAllowed ? 'block' : 'none';\n",
              "\n",
              "        async function convertToInteractive(key) {\n",
              "          const element = document.querySelector('#df-d06aa2c5-3899-4ac9-b858-80cc77f1b6f1');\n",
              "          const dataTable =\n",
              "            await google.colab.kernel.invokeFunction('convertToInteractive',\n",
              "                                                     [key], {});\n",
              "          if (!dataTable) return;\n",
              "\n",
              "          const docLinkHtml = 'Like what you see? Visit the ' +\n",
              "            '<a target=\"_blank\" href=https://colab.research.google.com/notebooks/data_table.ipynb>data table notebook</a>'\n",
              "            + ' to learn more about interactive tables.';\n",
              "          element.innerHTML = '';\n",
              "          dataTable['output_type'] = 'display_data';\n",
              "          await google.colab.output.renderOutput(dataTable, element);\n",
              "          const docLink = document.createElement('div');\n",
              "          docLink.innerHTML = docLinkHtml;\n",
              "          element.appendChild(docLink);\n",
              "        }\n",
              "      </script>\n",
              "    </div>\n",
              "  </div>\n",
              "  "
            ]
          },
          "metadata": {},
          "execution_count": 76
        }
      ]
    },
    {
      "cell_type": "code",
      "source": [
        "ds.dropna(axis=0,how='any', inplace=True)\n",
        "ds.isnull().sum() #remove null records"
      ],
      "metadata": {
        "colab": {
          "base_uri": "https://localhost:8080/"
        },
        "id": "7tMzri96CIJy",
        "outputId": "904bb030-1a94-49fa-c6ef-17b87202d9b4"
      },
      "execution_count": null,
      "outputs": [
        {
          "output_type": "execute_result",
          "data": {
            "text/plain": [
              "id                      0\n",
              "title                   0\n",
              "type                    0\n",
              "release_year            0\n",
              "age_certification       0\n",
              "runtime                 0\n",
              "genres                  0\n",
              "production_countries    0\n",
              "seasons                 0\n",
              "tmdb_popularity         0\n",
              "tmdb_score              0\n",
              "dtype: int64"
            ]
          },
          "metadata": {},
          "execution_count": 77
        }
      ]
    },
    {
      "cell_type": "code",
      "source": [
        "ds.shape"
      ],
      "metadata": {
        "colab": {
          "base_uri": "https://localhost:8080/"
        },
        "id": "BsLyrqXMClYi",
        "outputId": "d972166d-9017-44f1-9bc9-25b023fd17c2"
      },
      "execution_count": null,
      "outputs": [
        {
          "output_type": "execute_result",
          "data": {
            "text/plain": [
              "(1683, 11)"
            ]
          },
          "metadata": {},
          "execution_count": 78
        }
      ]
    },
    {
      "cell_type": "code",
      "source": [
        ""
      ],
      "metadata": {
        "id": "okScpeX2C1Yz"
      },
      "execution_count": null,
      "outputs": []
    }
  ]
}